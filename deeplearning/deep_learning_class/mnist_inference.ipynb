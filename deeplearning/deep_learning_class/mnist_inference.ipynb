{
  "nbformat": 4,
  "nbformat_minor": 0,
  "metadata": {
    "colab": {
      "provenance": []
    },
    "kernelspec": {
      "name": "python3",
      "display_name": "Python 3"
    },
    "language_info": {
      "name": "python"
    }
  },
  "cells": [
    {
      "cell_type": "markdown",
      "source": [
        "추론 feed forward에 필요한 파이썬 모듈 로딩 "
      ],
      "metadata": {
        "id": "dlqJggmnLDZU"
      }
    },
    {
      "cell_type": "code",
      "source": [
        "from tensorflow.keras.models import load_model  # TensorFlow is required for Keras to work\n",
        "import cv2  # Install opencv-python\n",
        "import numpy as np\n",
        "from google.colab.patches import cv2_imshow"
      ],
      "metadata": {
        "id": "AdqfmBPhLNFh"
      },
      "execution_count": 19,
      "outputs": []
    },
    {
      "cell_type": "markdown",
      "source": [
        "mnist 추론 파일을 로드하기. 추론파일은 트레이닝된 계수들의 배열임 "
      ],
      "metadata": {
        "id": "fEnnyywrLX73"
      }
    },
    {
      "cell_type": "code",
      "source": [
        "# Load the model\n",
        "model = load_model(\"mnist.h5\", compile=False)"
      ],
      "metadata": {
        "id": "8CsDjheoLf9P"
      },
      "execution_count": 20,
      "outputs": []
    },
    {
      "cell_type": "markdown",
      "source": [
        "내가 만든 숫자 이미지를 로딩하기 "
      ],
      "metadata": {
        "id": "7GWphD_ZL1df"
      }
    },
    {
      "cell_type": "code",
      "source": [
        "image = cv2.imread('4.png')\n"
      ],
      "metadata": {
        "id": "fx6jxZfDL43C"
      },
      "execution_count": 21,
      "outputs": []
    },
    {
      "cell_type": "markdown",
      "source": [
        "로딩한 숫자를 확인하기 "
      ],
      "metadata": {
        "id": "oKGxJaCTMkFW"
      }
    },
    {
      "cell_type": "code",
      "source": [
        "cv2_imshow(image)\n",
        "cv2.waitKey(0)\n",
        "cv2.destroyAllWindows()"
      ],
      "metadata": {
        "colab": {
          "base_uri": "https://localhost:8080/",
          "height": 287
        },
        "id": "bnkPDMSqMnMm",
        "outputId": "f6ec5c66-8119-48a1-fad9-e35d9d19ee13"
      },
      "execution_count": 23,
      "outputs": [
        {
          "output_type": "display_data",
          "data": {
            "text/plain": [
              "<PIL.Image.Image image mode=RGB size=276x270 at 0x7F33D112EEB0>"
            ],
            "image/png": "[encoded data removed]"
          },
          "metadata": {}
        }
      ]
    },
    {
      "cell_type": "markdown",
      "source": [
        "mnist 데이터에 맞게 리사이징 하기 "
      ],
      "metadata": {
        "id": "qCEI9yYqMp7I"
      }
    },
    {
      "cell_type": "code",
      "source": [
        "image = cv2.resize(image, (28,28))\n",
        "image = cv2.cvtColor(image, cv2.COLOR_BGR2GRAY)\n",
        "print(image.shape)"
      ],
      "metadata": {
        "colab": {
          "base_uri": "https://localhost:8080/"
        },
        "id": "hMweNtrfM5NV",
        "outputId": "d72174b5-39a4-4f65-dd64-875edccc7d15"
      },
      "execution_count": 24,
      "outputs": [
        {
          "output_type": "stream",
          "name": "stdout",
          "text": [
            "(28, 28)\n"
          ]
        }
      ]
    },
    {
      "cell_type": "markdown",
      "source": [
        "리사이즈한 이미지를 확인"
      ],
      "metadata": {
        "id": "Gc89Wi89NNbP"
      }
    },
    {
      "cell_type": "code",
      "source": [
        "cv2_imshow(image)\n",
        "cv2.waitKey(0)\n",
        "cv2.destroyAllWindows()"
      ],
      "metadata": {
        "colab": {
          "base_uri": "https://localhost:8080/",
          "height": 45
        },
        "id": "YA2GD9IINRvu",
        "outputId": "cf171f20-4522-46bd-90a9-12050b91f8a5"
      },
      "execution_count": 25,
      "outputs": [
        {
          "output_type": "display_data",
          "data": {
            "text/plain": [
              "<PIL.Image.Image image mode=L size=28x28 at 0x7F333C32C190>"
            ],
            "image/png": "[encoded data removed]"
          },
          "metadata": {}
        }
      ]
    },
    {
      "cell_type": "markdown",
      "source": [
        "이미지를 flattening 하기 "
      ],
      "metadata": {
        "id": "trPL1BFHNeYv"
      }
    },
    {
      "cell_type": "code",
      "source": [
        "print(image.shape)\n",
        "image = np.reshape(image, (784, ))\n",
        "print(image.shape)"
      ],
      "metadata": {
        "colab": {
          "base_uri": "https://localhost:8080/"
        },
        "id": "f-CzApxsNl8Z",
        "outputId": "ba27e77d-32dc-4c26-9503-fea8c3b1216b"
      },
      "execution_count": 26,
      "outputs": [
        {
          "output_type": "stream",
          "name": "stdout",
          "text": [
            "(28, 28)\n",
            "(784,)\n"
          ]
        }
      ]
    },
    {
      "cell_type": "markdown",
      "source": [
        "노말라이징 하기 "
      ],
      "metadata": {
        "id": "FO2485fFNu5m"
      }
    },
    {
      "cell_type": "code",
      "source": [
        "print(image)\n",
        "image = image.astype('float')/255.0\n",
        "print(image)"
      ],
      "metadata": {
        "colab": {
          "base_uri": "https://localhost:8080/"
        },
        "id": "eeozTjghN1XW",
        "outputId": "75ce7670-f259-4ba2-ab54-223c512bbf72"
      },
      "execution_count": 27,
      "outputs": [
        {
          "output_type": "stream",
          "name": "stdout",
          "text": [
            "[  0   0   0   0   0   0   0   0   0   0   0   0   0   0   0   0   0   0\n",
            "   0   0   0   0   0   0   0   0   0   0   0   0   0   0   0   0   0   0\n",
            "   0   0   0   0   0   0   0   0   0   0   0   0   0   0   0   0   0   0\n",
            "   0   0   0   0   0   0   0   0   0   0   0   0   0   0   0   0   0   0\n",
            "   0   0   0   0   0   0   0   0   0   0   0   0   0   0   0   0   0   0\n",
            "   0   0   0   0   0   0   0   0   0   0   0   0   0   0   0   0   0   0\n",
            "   0   0   0   0   0   0   0   0   0   0   0   0   0   0   0   0   0   0\n",
            "   0   0   0   0   0   0   0   0   0   0   0   0   0   0   3   0   0   0\n",
            "   0   0   0   0   0   0   0   0   0  13 255   7   0   0   0   0   0   0\n",
            "   0   0   0   0   0   0  54   0   0   0   0   0   0   0   0   0   0   0\n",
            "   0   0 255 255   0   0   0   0   0   0   0   0   0   0   0   0   9   0\n",
            "   0   0  14   0   1   0   0   0   0   0   0 255 255 255   0   0   0   0\n",
            "   1   0   0   0   0   0   0   0   0   0   0   0   0   0   0   0   0   0\n",
            "   0   0 255 255 255   0   0   0   0 162 255 255   0   0   0   0  26   0\n",
            "   0   0   0   0   0   0   0   0   0   0   0 160 255 255 254   0   0   4\n",
            "   0 255 255 255   0   0   0   0   0   0   0   0   0   0   0   0   0   0\n",
            "   0   0   0 255 255 255   0   0   0   0   0 255 255 255   0   0  75   0\n",
            "   0   0   0   0   0   0   0   0   0   0   0   0 255 255 255 152   0   0\n",
            "   0   0 255 255 255 255   0   0   0   0   0   0   0   0   0   0   0   0\n",
            "   0   0   0 255 255 255 255   0   0   0   0   0 255 255 255   0   0   0\n",
            "   0   0   0   0   0   0   0   0   0   0   0   0   0 255 255 255   0   0\n",
            "   0   0   0   0 255 255 255   0   0   0   0   0   0   0   0   0   0   0\n",
            "   0   0   0   0 255 255 255   0   0   0   0   0   0 255 255 255 253   0\n",
            "   0   0   0   0   0   0   0   0   0   0   0   0   0   0 255 255 255 255\n",
            " 255 255 255 255 255 255 255 255 255 255 255   0   0   0   0   0   0   0\n",
            "   0   0   0   0   0   0 255 255 255 255 255 255 255 161 250 255 255 255\n",
            " 255 255 255   0   0   0   0   0   0   0   0   0   0   0   0   0 255 244\n",
            " 255 255 255 255 232   0 255 255 255  55   0   0   0   0   0   0  32   0\n",
            "   0   0   0   0   0   0   0   0   0   0   0   0   0   0   0   0 255 255\n",
            " 255   0   0   0   0   0   0   0   0   0   0   0   0   0   0   0   0   0\n",
            "   0   0   0   0   0   0   0   0 255 255 255   0   0   0   0   0   0   0\n",
            "   0   0   0   0   0   0   0   0   0   0   0   0   0   0   0   0   0  19\n",
            " 255 255 255   0   0   0   0   0   0   0   0   0   0   0   0   0   0   0\n",
            "   0   0   0   0   0   0   0   0   0 255 255 255 255   0   0  11   0   0\n",
            "   0   0   0   0   0   0   0   0   0   0   0   0   0   0   0   0   0   0\n",
            "   0 164 255 255 100   0   0   0   0   0   0   0   0   0   0   0   0   0\n",
            "   0   0   0   0   0   0   0   0   0   0   0 255 255 255   0   0   0   0\n",
            "   0   0   0   0   0   0   0   0   0   0   0   0   0   0   0   0   0   0\n",
            "   0   0   0 246 255 255   0   0   0   0   0   0   0   0   0   0   0   0\n",
            "   0   0   0   0   0   0   0   0   0   0   0   0   0   0   0   0   0   0\n",
            "   0   0   0   0   0   0   0   0   0   0   0   0   0   0   0   0   0   0\n",
            "   0   0   0   0   0   0   0   0   0   0   0   0   0   0   0   0   0   0\n",
            "   0   0   0   0   0   0   0   0   0   0   0   0   0   0   0   0   0   0\n",
            "   0   0   0   0   0   0   0   0   0   0]\n",
            "[0.         0.         0.         0.         0.         0.\n",
            " 0.         0.         0.         0.         0.         0.\n",
            " 0.         0.         0.         0.         0.         0.\n",
            " 0.         0.         0.         0.         0.         0.\n",
            " 0.         0.         0.         0.         0.         0.\n",
            " 0.         0.         0.         0.         0.         0.\n",
            " 0.         0.         0.         0.         0.         0.\n",
            " 0.         0.         0.         0.         0.         0.\n",
            " 0.         0.         0.         0.         0.         0.\n",
            " 0.         0.         0.         0.         0.         0.\n",
            " 0.         0.         0.         0.         0.         0.\n",
            " 0.         0.         0.         0.         0.         0.\n",
            " 0.         0.         0.         0.         0.         0.\n",
            " 0.         0.         0.         0.         0.         0.\n",
            " 0.         0.         0.         0.         0.         0.\n",
            " 0.         0.         0.         0.         0.         0.\n",
            " 0.         0.         0.         0.         0.         0.\n",
            " 0.         0.         0.         0.         0.         0.\n",
            " 0.         0.         0.         0.         0.         0.\n",
            " 0.         0.         0.         0.         0.         0.\n",
            " 0.         0.         0.         0.         0.         0.\n",
            " 0.         0.         0.         0.         0.         0.\n",
            " 0.         0.         0.         0.         0.         0.\n",
            " 0.         0.         0.01176471 0.         0.         0.\n",
            " 0.         0.         0.         0.         0.         0.\n",
            " 0.         0.         0.         0.05098039 1.         0.02745098\n",
            " 0.         0.         0.         0.         0.         0.\n",
            " 0.         0.         0.         0.         0.         0.\n",
            " 0.21176471 0.         0.         0.         0.         0.\n",
            " 0.         0.         0.         0.         0.         0.\n",
            " 0.         0.         1.         1.         0.         0.\n",
            " 0.         0.         0.         0.         0.         0.\n",
            " 0.         0.         0.         0.         0.03529412 0.\n",
            " 0.         0.         0.05490196 0.         0.00392157 0.\n",
            " 0.         0.         0.         0.         0.         1.\n",
            " 1.         1.         0.         0.         0.         0.\n",
            " 0.00392157 0.         0.         0.         0.         0.\n",
            " 0.         0.         0.         0.         0.         0.\n",
            " 0.         0.         0.         0.         0.         0.\n",
            " 0.         0.         1.         1.         1.         0.\n",
            " 0.         0.         0.         0.63529412 1.         1.\n",
            " 0.         0.         0.         0.         0.10196078 0.\n",
            " 0.         0.         0.         0.         0.         0.\n",
            " 0.         0.         0.         0.         0.         0.62745098\n",
            " 1.         1.         0.99607843 0.         0.         0.01568627\n",
            " 0.         1.         1.         1.         0.         0.\n",
            " 0.         0.         0.         0.         0.         0.\n",
            " 0.         0.         0.         0.         0.         0.\n",
            " 0.         0.         0.         1.         1.         1.\n",
            " 0.         0.         0.         0.         0.         1.\n",
            " 1.         1.         0.         0.         0.29411765 0.\n",
            " 0.         0.         0.         0.         0.         0.\n",
            " 0.         0.         0.         0.         0.         0.\n",
            " 1.         1.         1.         0.59607843 0.         0.\n",
            " 0.         0.         1.         1.         1.         1.\n",
            " 0.         0.         0.         0.         0.         0.\n",
            " 0.         0.         0.         0.         0.         0.\n",
            " 0.         0.         0.         1.         1.         1.\n",
            " 1.         0.         0.         0.         0.         0.\n",
            " 1.         1.         1.         0.         0.         0.\n",
            " 0.         0.         0.         0.         0.         0.\n",
            " 0.         0.         0.         0.         0.         0.\n",
            " 0.         1.         1.         1.         0.         0.\n",
            " 0.         0.         0.         0.         1.         1.\n",
            " 1.         0.         0.         0.         0.         0.\n",
            " 0.         0.         0.         0.         0.         0.\n",
            " 0.         0.         0.         0.         1.         1.\n",
            " 1.         0.         0.         0.         0.         0.\n",
            " 0.         1.         1.         1.         0.99215686 0.\n",
            " 0.         0.         0.         0.         0.         0.\n",
            " 0.         0.         0.         0.         0.         0.\n",
            " 0.         0.         1.         1.         1.         1.\n",
            " 1.         1.         1.         1.         1.         1.\n",
            " 1.         1.         1.         1.         1.         0.\n",
            " 0.         0.         0.         0.         0.         0.\n",
            " 0.         0.         0.         0.         0.         0.\n",
            " 1.         1.         1.         1.         1.         1.\n",
            " 1.         0.63137255 0.98039216 1.         1.         1.\n",
            " 1.         1.         1.         0.         0.         0.\n",
            " 0.         0.         0.         0.         0.         0.\n",
            " 0.         0.         0.         0.         1.         0.95686275\n",
            " 1.         1.         1.         1.         0.90980392 0.\n",
            " 1.         1.         1.         0.21568627 0.         0.\n",
            " 0.         0.         0.         0.         0.1254902  0.\n",
            " 0.         0.         0.         0.         0.         0.\n",
            " 0.         0.         0.         0.         0.         0.\n",
            " 0.         0.         0.         0.         1.         1.\n",
            " 1.         0.         0.         0.         0.         0.\n",
            " 0.         0.         0.         0.         0.         0.\n",
            " 0.         0.         0.         0.         0.         0.\n",
            " 0.         0.         0.         0.         0.         0.\n",
            " 0.         0.         1.         1.         1.         0.\n",
            " 0.         0.         0.         0.         0.         0.\n",
            " 0.         0.         0.         0.         0.         0.\n",
            " 0.         0.         0.         0.         0.         0.\n",
            " 0.         0.         0.         0.         0.         0.0745098\n",
            " 1.         1.         1.         0.         0.         0.\n",
            " 0.         0.         0.         0.         0.         0.\n",
            " 0.         0.         0.         0.         0.         0.\n",
            " 0.         0.         0.         0.         0.         0.\n",
            " 0.         0.         0.         1.         1.         1.\n",
            " 1.         0.         0.         0.04313725 0.         0.\n",
            " 0.         0.         0.         0.         0.         0.\n",
            " 0.         0.         0.         0.         0.         0.\n",
            " 0.         0.         0.         0.         0.         0.\n",
            " 0.         0.64313725 1.         1.         0.39215686 0.\n",
            " 0.         0.         0.         0.         0.         0.\n",
            " 0.         0.         0.         0.         0.         0.\n",
            " 0.         0.         0.         0.         0.         0.\n",
            " 0.         0.         0.         0.         0.         1.\n",
            " 1.         1.         0.         0.         0.         0.\n",
            " 0.         0.         0.         0.         0.         0.\n",
            " 0.         0.         0.         0.         0.         0.\n",
            " 0.         0.         0.         0.         0.         0.\n",
            " 0.         0.         0.         0.96470588 1.         1.\n",
            " 0.         0.         0.         0.         0.         0.\n",
            " 0.         0.         0.         0.         0.         0.\n",
            " 0.         0.         0.         0.         0.         0.\n",
            " 0.         0.         0.         0.         0.         0.\n",
            " 0.         0.         0.         0.         0.         0.\n",
            " 0.         0.         0.         0.         0.         0.\n",
            " 0.         0.         0.         0.         0.         0.\n",
            " 0.         0.         0.         0.         0.         0.\n",
            " 0.         0.         0.         0.         0.         0.\n",
            " 0.         0.         0.         0.         0.         0.\n",
            " 0.         0.         0.         0.         0.         0.\n",
            " 0.         0.         0.         0.         0.         0.\n",
            " 0.         0.         0.         0.         0.         0.\n",
            " 0.         0.         0.         0.         0.         0.\n",
            " 0.         0.         0.         0.         0.         0.\n",
            " 0.         0.         0.         0.        ]\n"
          ]
        }
      ]
    },
    {
      "cell_type": "markdown",
      "source": [
        "추론 파일에 입력해서 결과 얻기 "
      ],
      "metadata": {
        "id": "PJQOm1PcOEPt"
      }
    },
    {
      "cell_type": "code",
      "source": [
        "X = np.asarray([image])\n",
        "predictions = model(X, training=False)\n",
        "print(predictions)"
      ],
      "metadata": {
        "colab": {
          "base_uri": "https://localhost:8080/"
        },
        "id": "3v98IPpuOMQC",
        "outputId": "49e18ee3-f2f3-435a-d3ad-970beaf4c981"
      },
      "execution_count": 28,
      "outputs": [
        {
          "output_type": "stream",
          "name": "stdout",
          "text": [
            "tf.Tensor(\n",
            "[[2.1816892e-04 3.6214681e-07 7.4842788e-04 4.1906853e-04 9.1532815e-01\n",
            "  5.7617010e-04 1.5353052e-03 9.3399035e-04 1.6235892e-03 7.8616917e-02]], shape=(1, 10), dtype=float32)\n",
            "4\n"
          ]
        }
      ]
    },
    {
      "cell_type": "markdown",
      "source": [
        "추론한 결과 값에서 라벨값(숫자)를 얻기 \n"
      ],
      "metadata": {
        "id": "kmRqrP7DOwul"
      }
    },
    {
      "cell_type": "code",
      "source": [
        "print(np.argmax(predictions))"
      ],
      "metadata": {
        "colab": {
          "base_uri": "https://localhost:8080/"
        },
        "id": "NpSqOrPQO2TL",
        "outputId": "b4126ae6-2890-426f-d77c-c4683133b5f4"
      },
      "execution_count": 29,
      "outputs": [
        {
          "output_type": "stream",
          "name": "stdout",
          "text": [
            "4\n"
          ]
        }
      ]
    }
  ]
}