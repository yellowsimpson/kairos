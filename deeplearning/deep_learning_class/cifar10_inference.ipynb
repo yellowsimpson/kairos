{
  "nbformat": 4,
  "nbformat_minor": 0,
  "metadata": {
    "colab": {
      "provenance": []
    },
    "kernelspec": {
      "name": "python3",
      "display_name": "Python 3"
    },
    "language_info": {
      "name": "python"
    }
  },
  "cells": [
    {
      "cell_type": "markdown",
      "source": [
        "CIFAR10 데이터셋 로딩 및 추론을 할 때 필요한 파이썬 모듈을 임포팅하기 "
      ],
      "metadata": {
        "id": "6Sn4j8-_sxPN"
      }
    },
    {
      "cell_type": "code",
      "execution_count": 1,
      "metadata": {
        "id": "0DhLsXoBsShQ"
      },
      "outputs": [],
      "source": [
        "from tensorflow.keras.models import load_model  # TensorFlow is required for Keras to work\n",
        "import cv2  # Install opencv-python\n",
        "import numpy as np\n",
        "from google.colab.patches import cv2_imshow"
      ]
    },
    {
      "cell_type": "markdown",
      "source": [
        "CIFAR10 추론 파일을 로드하기. 추론파일: 트레이닝을 통해 계수를 최적화한 인공신경망을 파일로 만들어 저장한 것. 이 추론파일을 사용해서 feedforward 측 추론/예측을 진행함. \n",
        "코랩에서 추론파일을 사용할 때는 추론파일인 \"cifar10.h5\"을 코랩 디스크에 미리 업로드 해 놓아야 함 \n"
      ],
      "metadata": {
        "id": "ZJcknYAstAVq"
      }
    },
    {
      "cell_type": "code",
      "source": [
        "# 추론 파일을 로드 함 \n",
        "model = load_model('./cifar10.h5')\n",
        "\n",
        "labelNames = [\"airplane\", \"automobile\", \"bird\", \"cat\", \"deer\",\n",
        "\t\"dog\", \"frog\", \"horse\", \"ship\", \"truck\"]"
      ],
      "metadata": {
        "id": "svUmiz3zsTpc"
      },
      "execution_count": 4,
      "outputs": []
    },
    {
      "cell_type": "markdown",
      "source": [
        "내 이미지를 추론파일을 통해서 예측해 보기 \n",
        "이제 인터넷에서 CIFAR10 데이터 종류 중 하나를 선택해서 코랩으로 옮기기. OpenCV를 이용해서 인터넷에서 예를 들어'비행기'이미지를 코랩으로 업로드 함 "
      ],
      "metadata": {
        "id": "Itik5Veit3L0"
      }
    },
    {
      "cell_type": "code",
      "source": [
        "# 내가 판단할 이미지를 로드 OpenCV로 한다.\n",
        "img = cv2.imread('plane.png')\n",
        "cv2_imshow(img)\n",
        "cv2.waitKey(2000)\n",
        "cv2.destroyAllWindows()"
      ],
      "metadata": {
        "colab": {
          "base_uri": "https://localhost:8080/",
          "height": 49
        },
        "id": "eMLbuE94tvcV",
        "outputId": "922fa490-7798-4968-a56d-3d694f804e5c"
      },
      "execution_count": 6,
      "outputs": [
        {
          "output_type": "display_data",
          "data": {
            "text/plain": [
              "<PIL.Image.Image image mode=RGB size=32x32 at 0x7FD710EBFD90>"
            ],
            "image/png": "[encoded data removed]"
          },
          "metadata": {}
        }
      ]
    },
    {
      "cell_type": "markdown",
      "source": [
        "내 이미지 사이즈 조절하기. \n",
        "CIFAR10 추론파일은 32x32x3인 이미지만 추론을 할 수 있음. 따라서 내 이미지의 사이즈를 32x32x3으로 축소해야 함. OpenCV 라이브러리를 이용해서 사이즈를 추론파일에 입력할 수 있도록 조정함 "
      ],
      "metadata": {
        "id": "30awghlwuVrQ"
      }
    },
    {
      "cell_type": "code",
      "source": [
        "img_resized = cv2.resize(img, (32,32))\n",
        "cv2_imshow(img_resized)\n",
        "cv2.waitKey(2000)\n",
        "cv2.destroyAllWindows()"
      ],
      "metadata": {
        "colab": {
          "base_uri": "https://localhost:8080/",
          "height": 49
        },
        "id": "TT694y0JvH7f",
        "outputId": "c54a898d-c660-4ee2-9777-7cdf8673bfb5"
      },
      "execution_count": 9,
      "outputs": [
        {
          "output_type": "display_data",
          "data": {
            "text/plain": [
              "<PIL.Image.Image image mode=RGB size=32x32 at 0x7FD710EBFE20>"
            ],
            "image/png": "[encoded data removed]"
          },
          "metadata": {}
        }
      ]
    },
    {
      "cell_type": "markdown",
      "source": [
        "내 이미지 노말라이징 \n",
        "내가 업로드 한 이미지는 한 픽셀마다 3개의 0 ~ 255인 숫자로 구성되어 있음. 이 숫자의 범위를 0 ~ 1로 조정함. 이렇게 하면 feedforwarding 예측 성능이 향상됨 "
      ],
      "metadata": {
        "id": "_QPrCfa1vaUd"
      }
    },
    {
      "cell_type": "code",
      "source": [
        "# Normalizing \n",
        "img_norm = img.astype('float')/255.0\n",
        "print(img_norm)"
      ],
      "metadata": {
        "colab": {
          "base_uri": "https://localhost:8080/"
        },
        "id": "OcOSyhIOv59J",
        "outputId": "4513cfb5-15f2-419b-9691-aaa315906dff"
      },
      "execution_count": 10,
      "outputs": [
        {
          "output_type": "stream",
          "name": "stdout",
          "text": [
            "[[[0.23137255 0.24313725 0.24705882]\n",
            "  [0.16862745 0.18039216 0.17647059]\n",
            "  [0.19607843 0.18823529 0.16862745]\n",
            "  ...\n",
            "  [0.61960784 0.51764706 0.42352941]\n",
            "  [0.59607843 0.49019608 0.4       ]\n",
            "  [0.58039216 0.48627451 0.40392157]]\n",
            "\n",
            " [[0.0627451  0.07843137 0.07843137]\n",
            "  [0.         0.         0.        ]\n",
            "  [0.07058824 0.03137255 0.        ]\n",
            "  ...\n",
            "  [0.48235294 0.34509804 0.21568627]\n",
            "  [0.46666667 0.3254902  0.19607843]\n",
            "  [0.47843137 0.34117647 0.22352941]]\n",
            "\n",
            " [[0.09803922 0.09411765 0.08235294]\n",
            "  [0.0627451  0.02745098 0.        ]\n",
            "  [0.19215686 0.10588235 0.03137255]\n",
            "  ...\n",
            "  [0.4627451  0.32941176 0.19607843]\n",
            "  [0.47058824 0.32941176 0.19607843]\n",
            "  [0.42745098 0.28627451 0.16470588]]\n",
            "\n",
            " ...\n",
            "\n",
            " [[0.81568627 0.66666667 0.37647059]\n",
            "  [0.78823529 0.6        0.13333333]\n",
            "  [0.77647059 0.63137255 0.10196078]\n",
            "  ...\n",
            "  [0.62745098 0.52156863 0.2745098 ]\n",
            "  [0.21960784 0.12156863 0.02745098]\n",
            "  [0.20784314 0.13333333 0.07843137]]\n",
            "\n",
            " [[0.70588235 0.54509804 0.37647059]\n",
            "  [0.67843137 0.48235294 0.16470588]\n",
            "  [0.72941176 0.56470588 0.11764706]\n",
            "  ...\n",
            "  [0.72156863 0.58039216 0.36862745]\n",
            "  [0.38039216 0.24313725 0.13333333]\n",
            "  [0.3254902  0.20784314 0.13333333]]\n",
            "\n",
            " [[0.69411765 0.56470588 0.45490196]\n",
            "  [0.65882353 0.50588235 0.36862745]\n",
            "  [0.70196078 0.55686275 0.34117647]\n",
            "  ...\n",
            "  [0.84705882 0.72156863 0.54901961]\n",
            "  [0.59215686 0.4627451  0.32941176]\n",
            "  [0.48235294 0.36078431 0.28235294]]]\n"
          ]
        }
      ]
    },
    {
      "cell_type": "markdown",
      "source": [
        "Flattening \n",
        "내 이미지를 사이즈 조정 -> 노말라이징을 한 다음에는 이미지의 픽셀숫자 배열을 flattening을 함. 32x32x3인 이미지를 1x(32x32x3)으로 변경해야함 CIFAR10 신경망에 입력이 가능함   "
      ],
      "metadata": {
        "id": "swZ5BicPv8Ta"
      }
    },
    {
      "cell_type": "code",
      "source": [
        "# flattening \n",
        "img_flat = img_norm.reshape((3072,1))\n",
        "#print(img_flat.shape)"
      ],
      "metadata": {
        "id": "LMpvEDFsv8DT"
      },
      "execution_count": 11,
      "outputs": []
    },
    {
      "cell_type": "markdown",
      "source": [
        "추론하기 \n",
        "이제 내 이미지를 전처리해서 추론파일에 입력할 준비가 됨. 전처리된 내 이미지를 추론파일에 입력해서 예측을 실행 "
      ],
      "metadata": {
        "id": "f0yoBkj9we7o"
      }
    },
    {
      "cell_type": "code",
      "source": [
        "# 추론하기, inference, feed-forward \n",
        "## X -> img_flat에 []을 한번더 씌운 것 \n",
        "X = np.asarray([img_flat])\n",
        "#print(X.shape)\n",
        "# 여기서 입력이미지를 추론파일에 곱하는 것 \n",
        "## return 값은 softmax\n",
        "predictions = model(X, training=False)\n",
        "print(predictions)\n",
        "print(np.argmax(predictions))"
      ],
      "metadata": {
        "colab": {
          "base_uri": "https://localhost:8080/"
        },
        "id": "jDATSnwnwqgu",
        "outputId": "ff8d7d78-fb11-4293-87e5-39572e3b0e6c"
      },
      "execution_count": 12,
      "outputs": [
        {
          "output_type": "stream",
          "name": "stdout",
          "text": [
            "tf.Tensor(\n",
            "[[1.2043898e-06 2.3357450e-07 9.3480294e-06 2.0474745e-06 4.5847282e-06\n",
            "  1.4673181e-04 9.9973506e-01 1.0083469e-04 4.0405821e-12 2.0529332e-10]], shape=(1, 10), dtype=float32)\n",
            "6\n"
          ]
        }
      ]
    }
  ]
}