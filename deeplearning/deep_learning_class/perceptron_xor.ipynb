{
  "nbformat": 4,
  "nbformat_minor": 0,
  "metadata": {
    "colab": {
      "name": "perceptron_xor.ipynb",
      "provenance": [],
      "collapsed_sections": []
    },
    "kernelspec": {
      "name": "python3",
      "display_name": "Python 3"
    },
    "language_info": {
      "name": "python"
    }
  },
  "cells": [
    {
      "cell_type": "code",
      "execution_count": null,
      "metadata": {
        "id": "Uzm-yM1FpABS"
      },
      "outputs": [],
      "source": [
        "import numpy as np"
      ]
    },
    {
      "cell_type": "markdown",
      "source": [
        "import numpy"
      ],
      "metadata": {
        "id": "eU4dUaDnpBYn"
      }
    },
    {
      "cell_type": "markdown",
      "source": [
        "numpy 임포트 하기 "
      ],
      "metadata": {
        "id": "gZA7EgrTbkB7"
      }
    },
    {
      "cell_type": "code",
      "source": [
        "class Perceptron:\n",
        "    def __init__(self, N, alpha):\n",
        "        self.W = np.random.randn(N+1)/np.sqrt(N)\n",
        "        self.alpha = alpha\n",
        "        print(\"Perceptron class created\")\n",
        "\n",
        "    def step(self, x):\n",
        "        if x > 0:\n",
        "            return 1\n",
        "        else:\n",
        "            return 0\n",
        "\n",
        "    def fit(self, X, y, epochs = 10):\n",
        "        X = np.c_[X, np.ones(X.shape[0])]  # 1 bias add to X input array\n",
        "        for epoch in range(epochs):\n",
        "            for (x, target) in zip(X, y):\n",
        "                p = self.step(np.dot(x, self.W))\n",
        "                if p != target:\n",
        "                    error = p - target  # wi(t +1) = wi(t) +α(dj −yj)xj,i\n",
        "                    self.W += -self.alpha*error*x\n",
        "\n",
        "    def predict(self, X): # X = [0 1] e.g.\n",
        "        X = np.atleast_2d(X)\n",
        "        X = np.c_[X, np.ones(1)]\n",
        "        p = self.step(np.dot(X, self.W))\n",
        "        print(p)\n",
        "        print('------------------')"
      ],
      "metadata": {
        "id": "zsS1vQhspDQS"
      },
      "execution_count": null,
      "outputs": []
    },
    {
      "cell_type": "markdown",
      "source": [
        "퍼셉트론 클래스 "
      ],
      "metadata": {
        "id": "5pTaSTJWpGpm"
      }
    },
    {
      "cell_type": "code",
      "source": [
        "per = Perceptron(2, 0.5)"
      ],
      "metadata": {
        "id": "nOFr52MipJZ7"
      },
      "execution_count": null,
      "outputs": []
    },
    {
      "cell_type": "markdown",
      "source": [
        "퍼셉트론 클래스 객체 만들기 "
      ],
      "metadata": {
        "id": "hLEsJjxMpL8a"
      }
    },
    {
      "cell_type": "code",
      "source": [
        "X =  np.array([[0, 0], [0, 1], [1, 0], [1, 1]])\n",
        "Y = np.array([[0], [1], [1], [0]])\n",
        "per.fit(X, Y) # self.W - perceptron "
      ],
      "metadata": {
        "id": "9r8tP5EFpUm5"
      },
      "execution_count": null,
      "outputs": []
    },
    {
      "cell_type": "markdown",
      "source": [
        "퍼셉트론 트레이닝 하기 "
      ],
      "metadata": {
        "id": "N5NS9aXhbbEh"
      }
    },
    {
      "cell_type": "code",
      "source": [
        "x = np.array([0,0])\n",
        "per.predict(x)"
      ],
      "metadata": {
        "colab": {
          "base_uri": "https://localhost:8080/"
        },
        "id": "5cRUEfCrpV-m",
        "outputId": "11b67a35-9e11-44f5-f5e9-ae6fed5b6ce7"
      },
      "execution_count": null,
      "outputs": [
        {
          "output_type": "stream",
          "name": "stdout",
          "text": [
            "1\n",
            "------------------\n"
          ]
        }
      ]
    },
    {
      "cell_type": "markdown",
      "source": [
        "XOR논리: False XOR False"
      ],
      "metadata": {
        "id": "k9A52vDib2L1"
      }
    },
    {
      "cell_type": "code",
      "source": [
        "x = np.array([1,0])\n",
        "per.predict(x)"
      ],
      "metadata": {
        "colab": {
          "base_uri": "https://localhost:8080/"
        },
        "id": "RUPjeVG1pZRh",
        "outputId": "82830b8a-9be4-4db5-c741-1a945214756e"
      },
      "execution_count": null,
      "outputs": [
        {
          "output_type": "stream",
          "name": "stdout",
          "text": [
            "0\n",
            "------------------\n"
          ]
        }
      ]
    },
    {
      "cell_type": "markdown",
      "source": [
        "XOR논리: True XOR False"
      ],
      "metadata": {
        "id": "vclrYeZ7cAV9"
      }
    },
    {
      "cell_type": "code",
      "source": [
        "x = np.array([0,1])\n",
        "per.predict(x)"
      ],
      "metadata": {
        "colab": {
          "base_uri": "https://localhost:8080/"
        },
        "id": "oSCjx2AcpbDX",
        "outputId": "36378dbb-1e79-4061-9f20-8aca4ade403c"
      },
      "execution_count": null,
      "outputs": [
        {
          "output_type": "stream",
          "name": "stdout",
          "text": [
            "1\n",
            "------------------\n"
          ]
        }
      ]
    },
    {
      "cell_type": "markdown",
      "source": [
        "XOR논리: False XOR True"
      ],
      "metadata": {
        "id": "cF9Aqcv6cFOw"
      }
    },
    {
      "cell_type": "code",
      "source": [
        "x = np.array([1,1])\n",
        "per.predict(x)\n",
        "   "
      ],
      "metadata": {
        "colab": {
          "base_uri": "https://localhost:8080/"
        },
        "id": "oq189GgjpbyV",
        "outputId": "e14b48ce-9618-408e-cced-7d17ca8dce5e"
      },
      "execution_count": null,
      "outputs": [
        {
          "output_type": "stream",
          "name": "stdout",
          "text": [
            "0\n",
            "------------------\n"
          ]
        }
      ]
    },
    {
      "cell_type": "markdown",
      "source": [
        "XOR논리: True XOR True"
      ],
      "metadata": {
        "id": "EBmQJuBxcI4s"
      }
    }
  ]
}