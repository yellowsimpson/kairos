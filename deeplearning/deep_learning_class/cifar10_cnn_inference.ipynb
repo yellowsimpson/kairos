{
  "nbformat": 4,
  "nbformat_minor": 0,
  "metadata": {
    "colab": {
      "provenance": []
    },
    "kernelspec": {
      "name": "python3",
      "display_name": "Python 3"
    },
    "language_info": {
      "name": "python"
    }
  },
  "cells": [
    {
      "cell_type": "markdown",
      "source": [
        "**커스텀 데이터 추론하기** <br>\n",
        "CIFAR10 데이터셋을 CNN으로 트레이닝한 후, 추론파일을 가지고 커스텀 데이터를 추론해보기.\n",
        "feed-forward를 실행하는 것이다. \n",
        "제일 먼저 추론에 필요한 파이썬 라이브러리를 임포트 한다. "
      ],
      "metadata": {
        "id": "1_qC0Kr3yHHR"
      }
    },
    {
      "cell_type": "code",
      "execution_count": 1,
      "metadata": {
        "id": "JL2Yvt1vuynV"
      },
      "outputs": [],
      "source": [
        "from tensorflow.keras.models import load_model  # TensorFlow is required for Keras to work\n",
        "import cv2  # Install opencv-python\n",
        "import numpy as np\n",
        "from google.colab.patches import cv2_imshow"
      ]
    },
    {
      "cell_type": "markdown",
      "source": [
        "**추론파일 로드하기** <br>\n",
        "추론파일은 CIFAR10 데이터셋을 이용하여 CNN으로 트레이닝한 계수를 모아놓은 것이다. 이 추론파일에 이미지를 벡터적으로 곱하면 추론을 할 수 있다. "
      ],
      "metadata": {
        "id": "YjiRVsSiypAA"
      }
    },
    {
      "cell_type": "code",
      "source": [
        "model = load_model('./cifar10_cnn.h5')"
      ],
      "metadata": {
        "id": "F27fzekSu3_1"
      },
      "execution_count": 2,
      "outputs": []
    },
    {
      "cell_type": "markdown",
      "source": [
        "CIFAR10 데이터셋 라벨 참고용"
      ],
      "metadata": {
        "id": "mkbiLoJky8Jz"
      }
    },
    {
      "cell_type": "code",
      "source": [
        "labelNames = [\"airplane\", \"automobile\", \"bird\", \"cat\", \"deer\",\n",
        "\t\"dog\", \"frog\", \"horse\", \"ship\", \"truck\"]"
      ],
      "metadata": {
        "id": "JwIl5WfUu7AB"
      },
      "execution_count": 3,
      "outputs": []
    },
    {
      "cell_type": "markdown",
      "source": [
        "**커스텀 이미지 로드** <br>\n",
        "내가 판단하고 싶은 커스텀 이미지를 OpenCV를 이용해서 로드한다. 당연히 CIFAR10 데이터셋 라벨 중에 있는 이미지로 올려야 한다. "
      ],
      "metadata": {
        "id": "bhF0ArLjzqi5"
      }
    },
    {
      "cell_type": "code",
      "source": [
        "# 내가 판단할 이미지를 로드 OpenCV로 한다.\n",
        "img = cv2.imread('./plane2.png')\n",
        "cv2_imshow(img)\n",
        "cv2.waitKey(2000)\n",
        "cv2.destroyAllWindows()\n"
      ],
      "metadata": {
        "colab": {
          "base_uri": "https://localhost:8080/",
          "height": 242
        },
        "id": "n0xTztzwu92J",
        "outputId": "c5d54131-14a0-4f9c-f246-338a27046617"
      },
      "execution_count": 4,
      "outputs": [
        {
          "output_type": "display_data",
          "data": {
            "text/plain": [
              "<PIL.Image.Image image mode=RGB size=225x225 at 0x7FADCCE56D10>"
            ],
            "image/png": "[encoded data removed]"
          },
          "metadata": {}
        }
      ]
    },
    {
      "cell_type": "markdown",
      "source": [
        "**이미지 리사이즈** <br>\n",
        "우리가 인터넷에서 선택한 이미지는 당연히 CIFAR10 데이터셋의 크기인 32x32x3이 아니기 때문에 이미지 사이즈를 조정한다. "
      ],
      "metadata": {
        "id": "4s3DHaJaz8ro"
      }
    },
    {
      "cell_type": "code",
      "source": [
        "img_resized = cv2.resize(img, (32,32))\n",
        "cv2_imshow(img_resized)\n",
        "cv2.waitKey(2000)\n",
        "cv2.destroyAllWindows()"
      ],
      "metadata": {
        "id": "3ooFxVphvBTv",
        "colab": {
          "base_uri": "https://localhost:8080/",
          "height": 49
        },
        "outputId": "2b731f49-6501-4086-f64e-f9bef5ce9b60"
      },
      "execution_count": 5,
      "outputs": [
        {
          "output_type": "display_data",
          "data": {
            "text/plain": [
              "<PIL.Image.Image image mode=RGB size=32x32 at 0x7FAD36387370>"
            ],
            "image/png": "[encoded data removed]"
          },
          "metadata": {}
        }
      ]
    },
    {
      "cell_type": "markdown",
      "source": [
        "**이미지 노말라이징** <br>\n",
        "이미지 데이터를 구성하는 숫자는 0 ~ 255 수준인데 이것을 0 ~ 1로 조정해야 텐서플로 계산이 편리하다."
      ],
      "metadata": {
        "id": "iGdpLsYT0ROF"
      }
    },
    {
      "cell_type": "code",
      "source": [
        "# Normalizing \n",
        "img_norm = img_resized.astype('float')/255.0\n",
        "print(img_norm)\n"
      ],
      "metadata": {
        "id": "k_GVcc_wvS_5",
        "colab": {
          "base_uri": "https://localhost:8080/"
        },
        "outputId": "b99468d5-b0b5-4735-ae09-d1fdd9129f3f"
      },
      "execution_count": 6,
      "outputs": [
        {
          "output_type": "stream",
          "name": "stdout",
          "text": [
            "[[[1. 1. 1.]\n",
            "  [1. 1. 1.]\n",
            "  [1. 1. 1.]\n",
            "  ...\n",
            "  [1. 1. 1.]\n",
            "  [1. 1. 1.]\n",
            "  [1. 1. 1.]]\n",
            "\n",
            " [[1. 1. 1.]\n",
            "  [1. 1. 1.]\n",
            "  [1. 1. 1.]\n",
            "  ...\n",
            "  [1. 1. 1.]\n",
            "  [1. 1. 1.]\n",
            "  [1. 1. 1.]]\n",
            "\n",
            " [[1. 1. 1.]\n",
            "  [1. 1. 1.]\n",
            "  [1. 1. 1.]\n",
            "  ...\n",
            "  [1. 1. 1.]\n",
            "  [1. 1. 1.]\n",
            "  [1. 1. 1.]]\n",
            "\n",
            " ...\n",
            "\n",
            " [[1. 1. 1.]\n",
            "  [1. 1. 1.]\n",
            "  [1. 1. 1.]\n",
            "  ...\n",
            "  [1. 1. 1.]\n",
            "  [1. 1. 1.]\n",
            "  [1. 1. 1.]]\n",
            "\n",
            " [[1. 1. 1.]\n",
            "  [1. 1. 1.]\n",
            "  [1. 1. 1.]\n",
            "  ...\n",
            "  [1. 1. 1.]\n",
            "  [1. 1. 1.]\n",
            "  [1. 1. 1.]]\n",
            "\n",
            " [[1. 1. 1.]\n",
            "  [1. 1. 1.]\n",
            "  [1. 1. 1.]\n",
            "  ...\n",
            "  [1. 1. 1.]\n",
            "  [1. 1. 1.]\n",
            "  [1. 1. 1.]]]\n"
          ]
        }
      ]
    },
    {
      "cell_type": "markdown",
      "source": [
        "**추론하기** <br>\n",
        "이제 커스텀 데이터를 추론파일에 벡터적으로 곱해서 추론결과를 얻는다. "
      ],
      "metadata": {
        "id": "osq_5vrL0hqH"
      }
    },
    {
      "cell_type": "code",
      "source": [
        "# 추론하기, inference, feed-forward \n",
        "## X -> img_flat에 []을 한번더 씌운 것 \n",
        "X = np.asarray([img_norm])\n",
        "#print(X.shape)\n",
        "# 여기서 입력이미지를 추론파일에 곱하는 것 \n",
        "## return 값은 softmax\n",
        "predictions = model(X, training=False)\n",
        "print(predictions)\n",
        "print(np.argmax(predictions))"
      ],
      "metadata": {
        "id": "oNsP2E5Lvc0r",
        "colab": {
          "base_uri": "https://localhost:8080/"
        },
        "outputId": "491f2065-d1f6-4513-e59a-da7ad1e45026"
      },
      "execution_count": 7,
      "outputs": [
        {
          "output_type": "stream",
          "name": "stdout",
          "text": [
            "tf.Tensor(\n",
            "[[9.9997258e-01 2.5636988e-08 2.7283604e-05 8.4906761e-15 1.2071991e-10\n",
            "  3.5954113e-08 3.2311299e-11 5.9089832e-14 2.0273715e-16 7.2325914e-14]], shape=(1, 10), dtype=float32)\n",
            "0\n"
          ]
        }
      ]
    }
  ]
}