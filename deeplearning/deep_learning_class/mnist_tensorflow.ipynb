{
  "nbformat": 4,
  "nbformat_minor": 0,
  "metadata": {
    "colab": {
      "provenance": []
    },
    "kernelspec": {
      "name": "python3",
      "display_name": "Python 3"
    },
    "language_info": {
      "name": "python"
    }
  },
  "cells": [
    {
      "cell_type": "code",
      "execution_count": 24,
      "metadata": {
        "id": "GDvfSvygV1Yu"
      },
      "outputs": [],
      "source": [
        "from tensorflow.keras.datasets import mnist\n",
        "from tensorflow.keras.models import Sequential\n",
        "from tensorflow.keras.layers import Dense\n",
        "from tensorflow.keras.optimizers import SGD\n",
        "from sklearn.preprocessing import LabelBinarizer\n",
        "from sklearn.metrics import classification_report\n",
        "import cv2\n",
        "import matplotlib.pyplot as plt\n",
        "import numpy as np\n",
        "from google.colab.patches import cv2_imshow"
      ]
    },
    {
      "cell_type": "markdown",
      "source": [
        "MNIST 데이터셋 딥러닝 트레이닝을 위한 필요한 파이썬 모듈 임포트 "
      ],
      "metadata": {
        "id": "Cs9d22Y8WG6K"
      }
    },
    {
      "cell_type": "code",
      "source": [
        "((trainX, trainY), (testX, testY)) = mnist.load_data()\n",
        "print(trainX.shape)\n",
        "print(testX.shape)\n",
        "print(trainY[0])\n",
        "print(testY[0])"
      ],
      "metadata": {
        "colab": {
          "base_uri": "https://localhost:8080/"
        },
        "id": "Flujp1CzWiA7",
        "outputId": "2f2d2b86-9099-41c8-d969-54c16869a88b"
      },
      "execution_count": 25,
      "outputs": [
        {
          "output_type": "stream",
          "name": "stdout",
          "text": [
            "(60000, 28, 28)\n",
            "(10000, 28, 28)\n",
            "5\n",
            "7\n"
          ]
        }
      ]
    },
    {
      "cell_type": "markdown",
      "source": [
        "MNIST 데이터셋을 다운로드하고 트레이닝용 데이터와 검증용 데이터로 나눈다. "
      ],
      "metadata": {
        "id": "vlp0QbL3W3Qu"
      }
    },
    {
      "cell_type": "code",
      "source": [
        "img = cv2.resize(trainX[0], (100, 100))\n",
        "cv2_imshow(img)\n",
        "cv2.waitKey(0)\n",
        "cv2.destroyAllWindows()\n",
        "print(trainY[0])\n",
        "img = cv2.resize(trainX[1], (100, 100))\n",
        "cv2_imshow(img)\n",
        "cv2.waitKey(0)\n",
        "cv2.destroyAllWindows()\n",
        "print(trainY[1])"
      ],
      "metadata": {
        "colab": {
          "base_uri": "https://localhost:8080/",
          "height": 254
        },
        "id": "OXpPA77zYFkw",
        "outputId": "e93d6659-461c-42b6-a754-bb62e8af7b20"
      },
      "execution_count": 26,
      "outputs": [
        {
          "output_type": "display_data",
          "data": {
            "text/plain": [
              "<PIL.Image.Image image mode=L size=100x100 at 0x7F0624082A90>"
            ],
            "image/png": "[encoded data removed]"
          },
          "metadata": {}
        },
        {
          "output_type": "stream",
          "name": "stdout",
          "text": [
            "5\n"
          ]
        },
        {
          "output_type": "display_data",
          "data": {
            "text/plain": [
              "<PIL.Image.Image image mode=L size=100x100 at 0x7F06CB558910>"
            ],
            "image/png": "[encoded data removed]"
          },
          "metadata": {}
        },
        {
          "output_type": "stream",
          "name": "stdout",
          "text": [
            "0\n"
          ]
        }
      ]
    },
    {
      "cell_type": "markdown",
      "source": [
        "다운로드 된 MNIST 데이터 하나를 디스플레이 해서 보기 "
      ],
      "metadata": {
        "id": "63t43AodYW2E"
      }
    },
    {
      "cell_type": "code",
      "source": [
        "trainX = trainX.reshape((trainX.shape[0], 28 * 28 * 1))\n",
        "testX = testX.reshape((testX.shape[0], 28 * 28 * 1))\n",
        "print(trainX.shape)\n",
        "print(testX.shape)"
      ],
      "metadata": {
        "colab": {
          "base_uri": "https://localhost:8080/"
        },
        "id": "hSQtr3P7XBIG",
        "outputId": "afc22486-8629-4770-9567-4de379837e15"
      },
      "execution_count": 27,
      "outputs": [
        {
          "output_type": "stream",
          "name": "stdout",
          "text": [
            "(60000, 784)\n",
            "(10000, 784)\n"
          ]
        }
      ]
    },
    {
      "cell_type": "markdown",
      "source": [
        "50000 x 28 x 28 x 1 의 행렬 형태의 입력 데이터를 50000 x 784 x 1의 행렬로 만든다. Flattening.  "
      ],
      "metadata": {
        "id": "P-F3CgkQXPXV"
      }
    },
    {
      "cell_type": "code",
      "source": [
        "print(\"Before normalizing: \", trainX[0])\n",
        "trainX = trainX.astype(\"float32\") / 255.0\n",
        "testX = testX.astype(\"float32\") / 255.0\n",
        "print(\"After normalizing: \", trainX[0])"
      ],
      "metadata": {
        "id": "z25Ha2ETacX6",
        "colab": {
          "base_uri": "https://localhost:8080/"
        },
        "outputId": "aaf93a6f-a1a8-4c4e-c182-21e41096dd2e"
      },
      "execution_count": 28,
      "outputs": [
        {
          "output_type": "stream",
          "name": "stdout",
          "text": [
            "Before normalizing:  [  0   0   0   0   0   0   0   0   0   0   0   0   0   0   0   0   0   0\n",
            "   0   0   0   0   0   0   0   0   0   0   0   0   0   0   0   0   0   0\n",
            "   0   0   0   0   0   0   0   0   0   0   0   0   0   0   0   0   0   0\n",
            "   0   0   0   0   0   0   0   0   0   0   0   0   0   0   0   0   0   0\n",
            "   0   0   0   0   0   0   0   0   0   0   0   0   0   0   0   0   0   0\n",
            "   0   0   0   0   0   0   0   0   0   0   0   0   0   0   0   0   0   0\n",
            "   0   0   0   0   0   0   0   0   0   0   0   0   0   0   0   0   0   0\n",
            "   0   0   0   0   0   0   0   0   0   0   0   0   0   0   0   0   0   0\n",
            "   0   0   0   0   0   0   0   0   3  18  18  18 126 136 175  26 166 255\n",
            " 247 127   0   0   0   0   0   0   0   0   0   0   0   0  30  36  94 154\n",
            " 170 253 253 253 253 253 225 172 253 242 195  64   0   0   0   0   0   0\n",
            "   0   0   0   0   0  49 238 253 253 253 253 253 253 253 253 251  93  82\n",
            "  82  56  39   0   0   0   0   0   0   0   0   0   0   0   0  18 219 253\n",
            " 253 253 253 253 198 182 247 241   0   0   0   0   0   0   0   0   0   0\n",
            "   0   0   0   0   0   0   0   0  80 156 107 253 253 205  11   0  43 154\n",
            "   0   0   0   0   0   0   0   0   0   0   0   0   0   0   0   0   0   0\n",
            "   0  14   1 154 253  90   0   0   0   0   0   0   0   0   0   0   0   0\n",
            "   0   0   0   0   0   0   0   0   0   0   0   0   0 139 253 190   2   0\n",
            "   0   0   0   0   0   0   0   0   0   0   0   0   0   0   0   0   0   0\n",
            "   0   0   0   0   0  11 190 253  70   0   0   0   0   0   0   0   0   0\n",
            "   0   0   0   0   0   0   0   0   0   0   0   0   0   0   0   0  35 241\n",
            " 225 160 108   1   0   0   0   0   0   0   0   0   0   0   0   0   0   0\n",
            "   0   0   0   0   0   0   0   0   0  81 240 253 253 119  25   0   0   0\n",
            "   0   0   0   0   0   0   0   0   0   0   0   0   0   0   0   0   0   0\n",
            "   0   0  45 186 253 253 150  27   0   0   0   0   0   0   0   0   0   0\n",
            "   0   0   0   0   0   0   0   0   0   0   0   0   0  16  93 252 253 187\n",
            "   0   0   0   0   0   0   0   0   0   0   0   0   0   0   0   0   0   0\n",
            "   0   0   0   0   0   0   0 249 253 249  64   0   0   0   0   0   0   0\n",
            "   0   0   0   0   0   0   0   0   0   0   0   0   0   0  46 130 183 253\n",
            " 253 207   2   0   0   0   0   0   0   0   0   0   0   0   0   0   0   0\n",
            "   0   0   0   0  39 148 229 253 253 253 250 182   0   0   0   0   0   0\n",
            "   0   0   0   0   0   0   0   0   0   0   0   0  24 114 221 253 253 253\n",
            " 253 201  78   0   0   0   0   0   0   0   0   0   0   0   0   0   0   0\n",
            "   0   0  23  66 213 253 253 253 253 198  81   2   0   0   0   0   0   0\n",
            "   0   0   0   0   0   0   0   0   0   0  18 171 219 253 253 253 253 195\n",
            "  80   9   0   0   0   0   0   0   0   0   0   0   0   0   0   0   0   0\n",
            "  55 172 226 253 253 253 253 244 133  11   0   0   0   0   0   0   0   0\n",
            "   0   0   0   0   0   0   0   0   0   0 136 253 253 253 212 135 132  16\n",
            "   0   0   0   0   0   0   0   0   0   0   0   0   0   0   0   0   0   0\n",
            "   0   0   0   0   0   0   0   0   0   0   0   0   0   0   0   0   0   0\n",
            "   0   0   0   0   0   0   0   0   0   0   0   0   0   0   0   0   0   0\n",
            "   0   0   0   0   0   0   0   0   0   0   0   0   0   0   0   0   0   0\n",
            "   0   0   0   0   0   0   0   0   0   0   0   0   0   0   0   0   0   0\n",
            "   0   0   0   0   0   0   0   0   0   0]\n",
            "After normalizing:  [0.         0.         0.         0.         0.         0.\n",
            " 0.         0.         0.         0.         0.         0.\n",
            " 0.         0.         0.         0.         0.         0.\n",
            " 0.         0.         0.         0.         0.         0.\n",
            " 0.         0.         0.         0.         0.         0.\n",
            " 0.         0.         0.         0.         0.         0.\n",
            " 0.         0.         0.         0.         0.         0.\n",
            " 0.         0.         0.         0.         0.         0.\n",
            " 0.         0.         0.         0.         0.         0.\n",
            " 0.         0.         0.         0.         0.         0.\n",
            " 0.         0.         0.         0.         0.         0.\n",
            " 0.         0.         0.         0.         0.         0.\n",
            " 0.         0.         0.         0.         0.         0.\n",
            " 0.         0.         0.         0.         0.         0.\n",
            " 0.         0.         0.         0.         0.         0.\n",
            " 0.         0.         0.         0.         0.         0.\n",
            " 0.         0.         0.         0.         0.         0.\n",
            " 0.         0.         0.         0.         0.         0.\n",
            " 0.         0.         0.         0.         0.         0.\n",
            " 0.         0.         0.         0.         0.         0.\n",
            " 0.         0.         0.         0.         0.         0.\n",
            " 0.         0.         0.         0.         0.         0.\n",
            " 0.         0.         0.         0.         0.         0.\n",
            " 0.         0.         0.         0.         0.         0.\n",
            " 0.         0.         0.         0.         0.         0.\n",
            " 0.         0.         0.01176471 0.07058824 0.07058824 0.07058824\n",
            " 0.49411765 0.53333336 0.6862745  0.10196079 0.6509804  1.\n",
            " 0.96862745 0.49803922 0.         0.         0.         0.\n",
            " 0.         0.         0.         0.         0.         0.\n",
            " 0.         0.         0.11764706 0.14117648 0.36862746 0.6039216\n",
            " 0.6666667  0.99215686 0.99215686 0.99215686 0.99215686 0.99215686\n",
            " 0.88235295 0.6745098  0.99215686 0.9490196  0.7647059  0.2509804\n",
            " 0.         0.         0.         0.         0.         0.\n",
            " 0.         0.         0.         0.         0.         0.19215687\n",
            " 0.93333334 0.99215686 0.99215686 0.99215686 0.99215686 0.99215686\n",
            " 0.99215686 0.99215686 0.99215686 0.9843137  0.3647059  0.32156864\n",
            " 0.32156864 0.21960784 0.15294118 0.         0.         0.\n",
            " 0.         0.         0.         0.         0.         0.\n",
            " 0.         0.         0.         0.07058824 0.85882354 0.99215686\n",
            " 0.99215686 0.99215686 0.99215686 0.99215686 0.7764706  0.7137255\n",
            " 0.96862745 0.94509804 0.         0.         0.         0.\n",
            " 0.         0.         0.         0.         0.         0.\n",
            " 0.         0.         0.         0.         0.         0.\n",
            " 0.         0.         0.3137255  0.6117647  0.41960785 0.99215686\n",
            " 0.99215686 0.8039216  0.04313726 0.         0.16862746 0.6039216\n",
            " 0.         0.         0.         0.         0.         0.\n",
            " 0.         0.         0.         0.         0.         0.\n",
            " 0.         0.         0.         0.         0.         0.\n",
            " 0.         0.05490196 0.00392157 0.6039216  0.99215686 0.3529412\n",
            " 0.         0.         0.         0.         0.         0.\n",
            " 0.         0.         0.         0.         0.         0.\n",
            " 0.         0.         0.         0.         0.         0.\n",
            " 0.         0.         0.         0.         0.         0.\n",
            " 0.         0.54509807 0.99215686 0.74509805 0.00784314 0.\n",
            " 0.         0.         0.         0.         0.         0.\n",
            " 0.         0.         0.         0.         0.         0.\n",
            " 0.         0.         0.         0.         0.         0.\n",
            " 0.         0.         0.         0.         0.         0.04313726\n",
            " 0.74509805 0.99215686 0.27450982 0.         0.         0.\n",
            " 0.         0.         0.         0.         0.         0.\n",
            " 0.         0.         0.         0.         0.         0.\n",
            " 0.         0.         0.         0.         0.         0.\n",
            " 0.         0.         0.         0.         0.13725491 0.94509804\n",
            " 0.88235295 0.627451   0.42352942 0.00392157 0.         0.\n",
            " 0.         0.         0.         0.         0.         0.\n",
            " 0.         0.         0.         0.         0.         0.\n",
            " 0.         0.         0.         0.         0.         0.\n",
            " 0.         0.         0.         0.31764707 0.9411765  0.99215686\n",
            " 0.99215686 0.46666667 0.09803922 0.         0.         0.\n",
            " 0.         0.         0.         0.         0.         0.\n",
            " 0.         0.         0.         0.         0.         0.\n",
            " 0.         0.         0.         0.         0.         0.\n",
            " 0.         0.         0.1764706  0.7294118  0.99215686 0.99215686\n",
            " 0.5882353  0.10588235 0.         0.         0.         0.\n",
            " 0.         0.         0.         0.         0.         0.\n",
            " 0.         0.         0.         0.         0.         0.\n",
            " 0.         0.         0.         0.         0.         0.\n",
            " 0.         0.0627451  0.3647059  0.9882353  0.99215686 0.73333335\n",
            " 0.         0.         0.         0.         0.         0.\n",
            " 0.         0.         0.         0.         0.         0.\n",
            " 0.         0.         0.         0.         0.         0.\n",
            " 0.         0.         0.         0.         0.         0.\n",
            " 0.         0.9764706  0.99215686 0.9764706  0.2509804  0.\n",
            " 0.         0.         0.         0.         0.         0.\n",
            " 0.         0.         0.         0.         0.         0.\n",
            " 0.         0.         0.         0.         0.         0.\n",
            " 0.         0.         0.18039216 0.50980395 0.7176471  0.99215686\n",
            " 0.99215686 0.8117647  0.00784314 0.         0.         0.\n",
            " 0.         0.         0.         0.         0.         0.\n",
            " 0.         0.         0.         0.         0.         0.\n",
            " 0.         0.         0.         0.         0.15294118 0.5803922\n",
            " 0.8980392  0.99215686 0.99215686 0.99215686 0.98039216 0.7137255\n",
            " 0.         0.         0.         0.         0.         0.\n",
            " 0.         0.         0.         0.         0.         0.\n",
            " 0.         0.         0.         0.         0.         0.\n",
            " 0.09411765 0.44705883 0.8666667  0.99215686 0.99215686 0.99215686\n",
            " 0.99215686 0.7882353  0.30588236 0.         0.         0.\n",
            " 0.         0.         0.         0.         0.         0.\n",
            " 0.         0.         0.         0.         0.         0.\n",
            " 0.         0.         0.09019608 0.25882354 0.8352941  0.99215686\n",
            " 0.99215686 0.99215686 0.99215686 0.7764706  0.31764707 0.00784314\n",
            " 0.         0.         0.         0.         0.         0.\n",
            " 0.         0.         0.         0.         0.         0.\n",
            " 0.         0.         0.         0.         0.07058824 0.67058825\n",
            " 0.85882354 0.99215686 0.99215686 0.99215686 0.99215686 0.7647059\n",
            " 0.3137255  0.03529412 0.         0.         0.         0.\n",
            " 0.         0.         0.         0.         0.         0.\n",
            " 0.         0.         0.         0.         0.         0.\n",
            " 0.21568628 0.6745098  0.8862745  0.99215686 0.99215686 0.99215686\n",
            " 0.99215686 0.95686275 0.52156866 0.04313726 0.         0.\n",
            " 0.         0.         0.         0.         0.         0.\n",
            " 0.         0.         0.         0.         0.         0.\n",
            " 0.         0.         0.         0.         0.53333336 0.99215686\n",
            " 0.99215686 0.99215686 0.83137256 0.5294118  0.5176471  0.0627451\n",
            " 0.         0.         0.         0.         0.         0.\n",
            " 0.         0.         0.         0.         0.         0.\n",
            " 0.         0.         0.         0.         0.         0.\n",
            " 0.         0.         0.         0.         0.         0.\n",
            " 0.         0.         0.         0.         0.         0.\n",
            " 0.         0.         0.         0.         0.         0.\n",
            " 0.         0.         0.         0.         0.         0.\n",
            " 0.         0.         0.         0.         0.         0.\n",
            " 0.         0.         0.         0.         0.         0.\n",
            " 0.         0.         0.         0.         0.         0.\n",
            " 0.         0.         0.         0.         0.         0.\n",
            " 0.         0.         0.         0.         0.         0.\n",
            " 0.         0.         0.         0.         0.         0.\n",
            " 0.         0.         0.         0.         0.         0.\n",
            " 0.         0.         0.         0.         0.         0.\n",
            " 0.         0.         0.         0.         0.         0.\n",
            " 0.         0.         0.         0.        ]\n"
          ]
        }
      ]
    },
    {
      "cell_type": "markdown",
      "source": [
        "입력 데이터의 flattening 이후에는 입력 데이터를 normalizing한다. Normalizing이전에는 입력데이터 하나하나의 값이 0 ~ 255인데, normalizing이후에는 0~1로 변경된다. "
      ],
      "metadata": {
        "id": "esfdS4s6bMp_"
      }
    },
    {
      "cell_type": "code",
      "source": [
        "print(\"Before label binarizing (trainY[0]): \", trainY[0])\n",
        "lb = LabelBinarizer()\n",
        "trainY = lb.fit_transform(trainY)\n",
        "testY = lb.transform(testY)\n",
        "print(\"Before label binarizing (trainY[0]): \", trainY[0])"
      ],
      "metadata": {
        "colab": {
          "base_uri": "https://localhost:8080/"
        },
        "id": "SVW9FFkkbh7f",
        "outputId": "fdaaa9ea-784d-41c3-bce4-0288c8d60355"
      },
      "execution_count": 29,
      "outputs": [
        {
          "output_type": "stream",
          "name": "stdout",
          "text": [
            "Before label binarizing (trainY[0]):  5\n",
            "Before label binarizing (trainY[0]):  [0 0 0 0 0 1 0 0 0 0]\n"
          ]
        }
      ]
    },
    {
      "cell_type": "code",
      "source": [
        "sgd = SGD(0.01)\n",
        "model = Sequential()\n",
        "model.add(Dense(256, input_shape=(784,), activation=\"sigmoid\"))\n",
        "model.add(Dense(128, activation=\"sigmoid\"))\n",
        "model.add(Dense(10, activation=\"softmax\"))"
      ],
      "metadata": {
        "id": "lSUEexoLW38H"
      },
      "execution_count": 30,
      "outputs": []
    },
    {
      "cell_type": "markdown",
      "source": [
        "역전파를 수행하는 경사강하법을 효율적으로 하기 위해서 옵티마이저를 SGD를 사용한다. \n",
        "텐서플로의 Sequencial 모듈을 사용해서 신경망을 구성한다. \n",
        "신경망은 입력을 제외하고 2개의 레이어 (256, 128, 10) 3개의 레이어로 구성된다. 마지막 레이어는 출력 레이어로 출력은 10개이다. \n"
      ],
      "metadata": {
        "id": "_GHPCbVxc-22"
      }
    },
    {
      "cell_type": "code",
      "source": [
        "model.compile(loss=\"categorical_crossentropy\", optimizer=sgd,\n",
        "\tmetrics=[\"accuracy\"])"
      ],
      "metadata": {
        "id": "gMzFQFWgoMcQ"
      },
      "execution_count": 31,
      "outputs": []
    },
    {
      "cell_type": "markdown",
      "source": [
        "Sequential로 구성한 신경망 모델은 compile 명령을 통해서 만들어진다. 이때 로스함수(에러함수), 경사강하법에 사용되는 옵티마이저, metrics를 입력한다. "
      ],
      "metadata": {
        "id": "TAbWaxhSoOxI"
      }
    },
    {
      "cell_type": "code",
      "source": [
        "H = model.fit(trainX, trainY, validation_data=(testX, testY),\n",
        "\tepochs=100, batch_size=128)"
      ],
      "metadata": {
        "id": "KQqobOiLpKTb",
        "colab": {
          "base_uri": "https://localhost:8080/"
        },
        "outputId": "27ff74e9-4e8a-4eda-8b2b-cae820570885"
      },
      "execution_count": 32,
      "outputs": [
        {
          "output_type": "stream",
          "name": "stdout",
          "text": [
            "Epoch 1/100\n",
            "469/469 [==============================] - 4s 7ms/step - loss: 2.2685 - accuracy: 0.2161 - val_loss: 2.2282 - val_accuracy: 0.3660\n",
            "Epoch 2/100\n",
            "469/469 [==============================] - 3s 7ms/step - loss: 2.1910 - accuracy: 0.4231 - val_loss: 2.1451 - val_accuracy: 0.5546\n",
            "Epoch 3/100\n",
            "469/469 [==============================] - 4s 9ms/step - loss: 2.0940 - accuracy: 0.5561 - val_loss: 2.0272 - val_accuracy: 0.5746\n",
            "Epoch 4/100\n",
            "469/469 [==============================] - 3s 7ms/step - loss: 1.9534 - accuracy: 0.6112 - val_loss: 1.8575 - val_accuracy: 0.6664\n",
            "Epoch 5/100\n",
            "469/469 [==============================] - 3s 6ms/step - loss: 1.7620 - accuracy: 0.6517 - val_loss: 1.6416 - val_accuracy: 0.6809\n",
            "Epoch 6/100\n",
            "469/469 [==============================] - 3s 6ms/step - loss: 1.5407 - accuracy: 0.6897 - val_loss: 1.4156 - val_accuracy: 0.7243\n",
            "Epoch 7/100\n",
            "469/469 [==============================] - 4s 9ms/step - loss: 1.3278 - accuracy: 0.7239 - val_loss: 1.2171 - val_accuracy: 0.7440\n",
            "Epoch 8/100\n",
            "469/469 [==============================] - 3s 6ms/step - loss: 1.1500 - accuracy: 0.7534 - val_loss: 1.0592 - val_accuracy: 0.7684\n",
            "Epoch 9/100\n",
            "469/469 [==============================] - 3s 7ms/step - loss: 1.0115 - accuracy: 0.7760 - val_loss: 0.9382 - val_accuracy: 0.7915\n",
            "Epoch 10/100\n",
            "469/469 [==============================] - 3s 6ms/step - loss: 0.9048 - accuracy: 0.7934 - val_loss: 0.8449 - val_accuracy: 0.8096\n",
            "Epoch 11/100\n",
            "469/469 [==============================] - 4s 9ms/step - loss: 0.8217 - accuracy: 0.8083 - val_loss: 0.7718 - val_accuracy: 0.8203\n",
            "Epoch 12/100\n",
            "469/469 [==============================] - 3s 7ms/step - loss: 0.7556 - accuracy: 0.8200 - val_loss: 0.7121 - val_accuracy: 0.8293\n",
            "Epoch 13/100\n",
            "469/469 [==============================] - 3s 7ms/step - loss: 0.7021 - accuracy: 0.8296 - val_loss: 0.6646 - val_accuracy: 0.8357\n",
            "Epoch 14/100\n",
            "469/469 [==============================] - 3s 7ms/step - loss: 0.6580 - accuracy: 0.8376 - val_loss: 0.6240 - val_accuracy: 0.8447\n",
            "Epoch 15/100\n",
            "469/469 [==============================] - 4s 8ms/step - loss: 0.6212 - accuracy: 0.8441 - val_loss: 0.5905 - val_accuracy: 0.8510\n",
            "Epoch 16/100\n",
            "469/469 [==============================] - 3s 6ms/step - loss: 0.5904 - accuracy: 0.8504 - val_loss: 0.5627 - val_accuracy: 0.8554\n",
            "Epoch 17/100\n",
            "469/469 [==============================] - 3s 6ms/step - loss: 0.5641 - accuracy: 0.8547 - val_loss: 0.5384 - val_accuracy: 0.8624\n",
            "Epoch 18/100\n",
            "469/469 [==============================] - 3s 6ms/step - loss: 0.5416 - accuracy: 0.8599 - val_loss: 0.5169 - val_accuracy: 0.8648\n",
            "Epoch 19/100\n",
            "469/469 [==============================] - 4s 9ms/step - loss: 0.5220 - accuracy: 0.8636 - val_loss: 0.4992 - val_accuracy: 0.8689\n",
            "Epoch 20/100\n",
            "469/469 [==============================] - 3s 6ms/step - loss: 0.5049 - accuracy: 0.8666 - val_loss: 0.4834 - val_accuracy: 0.8716\n",
            "Epoch 21/100\n",
            "469/469 [==============================] - 3s 6ms/step - loss: 0.4897 - accuracy: 0.8694 - val_loss: 0.4685 - val_accuracy: 0.8755\n",
            "Epoch 22/100\n",
            "469/469 [==============================] - 3s 7ms/step - loss: 0.4762 - accuracy: 0.8728 - val_loss: 0.4560 - val_accuracy: 0.8780\n",
            "Epoch 23/100\n",
            "469/469 [==============================] - 4s 9ms/step - loss: 0.4642 - accuracy: 0.8750 - val_loss: 0.4448 - val_accuracy: 0.8797\n",
            "Epoch 24/100\n",
            "469/469 [==============================] - 3s 7ms/step - loss: 0.4534 - accuracy: 0.8769 - val_loss: 0.4346 - val_accuracy: 0.8837\n",
            "Epoch 25/100\n",
            "469/469 [==============================] - 3s 7ms/step - loss: 0.4435 - accuracy: 0.8791 - val_loss: 0.4248 - val_accuracy: 0.8837\n",
            "Epoch 26/100\n",
            "469/469 [==============================] - 4s 9ms/step - loss: 0.4346 - accuracy: 0.8809 - val_loss: 0.4164 - val_accuracy: 0.8859\n",
            "Epoch 27/100\n",
            "469/469 [==============================] - 3s 7ms/step - loss: 0.4265 - accuracy: 0.8825 - val_loss: 0.4096 - val_accuracy: 0.8860\n",
            "Epoch 28/100\n",
            "469/469 [==============================] - 3s 7ms/step - loss: 0.4190 - accuracy: 0.8847 - val_loss: 0.4021 - val_accuracy: 0.8882\n",
            "Epoch 29/100\n",
            "469/469 [==============================] - 3s 7ms/step - loss: 0.4122 - accuracy: 0.8860 - val_loss: 0.3957 - val_accuracy: 0.8893\n",
            "Epoch 30/100\n",
            "469/469 [==============================] - 4s 9ms/step - loss: 0.4058 - accuracy: 0.8874 - val_loss: 0.3895 - val_accuracy: 0.8917\n",
            "Epoch 31/100\n",
            "469/469 [==============================] - 3s 6ms/step - loss: 0.4000 - accuracy: 0.8889 - val_loss: 0.3839 - val_accuracy: 0.8929\n",
            "Epoch 32/100\n",
            "469/469 [==============================] - 3s 6ms/step - loss: 0.3944 - accuracy: 0.8895 - val_loss: 0.3789 - val_accuracy: 0.8935\n",
            "Epoch 33/100\n",
            "469/469 [==============================] - 3s 6ms/step - loss: 0.3893 - accuracy: 0.8910 - val_loss: 0.3748 - val_accuracy: 0.8957\n",
            "Epoch 34/100\n",
            "469/469 [==============================] - 4s 9ms/step - loss: 0.3847 - accuracy: 0.8919 - val_loss: 0.3696 - val_accuracy: 0.8960\n",
            "Epoch 35/100\n",
            "469/469 [==============================] - 3s 7ms/step - loss: 0.3801 - accuracy: 0.8929 - val_loss: 0.3653 - val_accuracy: 0.8962\n",
            "Epoch 36/100\n",
            "469/469 [==============================] - 3s 6ms/step - loss: 0.3760 - accuracy: 0.8944 - val_loss: 0.3615 - val_accuracy: 0.8978\n",
            "Epoch 37/100\n",
            "469/469 [==============================] - 3s 7ms/step - loss: 0.3720 - accuracy: 0.8947 - val_loss: 0.3580 - val_accuracy: 0.8978\n",
            "Epoch 38/100\n",
            "469/469 [==============================] - 4s 9ms/step - loss: 0.3682 - accuracy: 0.8957 - val_loss: 0.3543 - val_accuracy: 0.8990\n",
            "Epoch 39/100\n",
            "469/469 [==============================] - 4s 8ms/step - loss: 0.3647 - accuracy: 0.8965 - val_loss: 0.3510 - val_accuracy: 0.8997\n",
            "Epoch 40/100\n",
            "469/469 [==============================] - 4s 7ms/step - loss: 0.3613 - accuracy: 0.8978 - val_loss: 0.3477 - val_accuracy: 0.9008\n",
            "Epoch 41/100\n",
            "469/469 [==============================] - 4s 8ms/step - loss: 0.3580 - accuracy: 0.8978 - val_loss: 0.3448 - val_accuracy: 0.9016\n",
            "Epoch 42/100\n",
            "469/469 [==============================] - 3s 7ms/step - loss: 0.3550 - accuracy: 0.8989 - val_loss: 0.3415 - val_accuracy: 0.9027\n",
            "Epoch 43/100\n",
            "469/469 [==============================] - 3s 6ms/step - loss: 0.3521 - accuracy: 0.8998 - val_loss: 0.3391 - val_accuracy: 0.9023\n",
            "Epoch 44/100\n",
            "469/469 [==============================] - 3s 7ms/step - loss: 0.3493 - accuracy: 0.9003 - val_loss: 0.3359 - val_accuracy: 0.9034\n",
            "Epoch 45/100\n",
            "469/469 [==============================] - 4s 9ms/step - loss: 0.3465 - accuracy: 0.9016 - val_loss: 0.3337 - val_accuracy: 0.9037\n",
            "Epoch 46/100\n",
            "469/469 [==============================] - 3s 7ms/step - loss: 0.3440 - accuracy: 0.9020 - val_loss: 0.3311 - val_accuracy: 0.9040\n",
            "Epoch 47/100\n",
            "469/469 [==============================] - 3s 6ms/step - loss: 0.3413 - accuracy: 0.9025 - val_loss: 0.3300 - val_accuracy: 0.9052\n",
            "Epoch 48/100\n",
            "469/469 [==============================] - 3s 7ms/step - loss: 0.3391 - accuracy: 0.9032 - val_loss: 0.3264 - val_accuracy: 0.9050\n",
            "Epoch 49/100\n",
            "469/469 [==============================] - 4s 9ms/step - loss: 0.3367 - accuracy: 0.9039 - val_loss: 0.3244 - val_accuracy: 0.9059\n",
            "Epoch 50/100\n",
            "469/469 [==============================] - 3s 7ms/step - loss: 0.3345 - accuracy: 0.9046 - val_loss: 0.3225 - val_accuracy: 0.9064\n",
            "Epoch 51/100\n",
            "469/469 [==============================] - 3s 7ms/step - loss: 0.3323 - accuracy: 0.9047 - val_loss: 0.3204 - val_accuracy: 0.9074\n",
            "Epoch 52/100\n",
            "469/469 [==============================] - 3s 7ms/step - loss: 0.3302 - accuracy: 0.9054 - val_loss: 0.3181 - val_accuracy: 0.9080\n",
            "Epoch 53/100\n",
            "469/469 [==============================] - 4s 9ms/step - loss: 0.3281 - accuracy: 0.9062 - val_loss: 0.3170 - val_accuracy: 0.9080\n",
            "Epoch 54/100\n",
            "469/469 [==============================] - 3s 7ms/step - loss: 0.3261 - accuracy: 0.9067 - val_loss: 0.3144 - val_accuracy: 0.9085\n",
            "Epoch 55/100\n",
            "469/469 [==============================] - 3s 7ms/step - loss: 0.3242 - accuracy: 0.9072 - val_loss: 0.3128 - val_accuracy: 0.9099\n",
            "Epoch 56/100\n",
            "469/469 [==============================] - 3s 7ms/step - loss: 0.3223 - accuracy: 0.9074 - val_loss: 0.3109 - val_accuracy: 0.9098\n",
            "Epoch 57/100\n",
            "469/469 [==============================] - 4s 8ms/step - loss: 0.3205 - accuracy: 0.9080 - val_loss: 0.3095 - val_accuracy: 0.9112\n",
            "Epoch 58/100\n",
            "469/469 [==============================] - 3s 6ms/step - loss: 0.3188 - accuracy: 0.9084 - val_loss: 0.3077 - val_accuracy: 0.9114\n",
            "Epoch 59/100\n",
            "469/469 [==============================] - 3s 6ms/step - loss: 0.3170 - accuracy: 0.9092 - val_loss: 0.3061 - val_accuracy: 0.9120\n",
            "Epoch 60/100\n",
            "469/469 [==============================] - 4s 7ms/step - loss: 0.3153 - accuracy: 0.9094 - val_loss: 0.3048 - val_accuracy: 0.9121\n",
            "Epoch 61/100\n",
            "469/469 [==============================] - 4s 8ms/step - loss: 0.3137 - accuracy: 0.9097 - val_loss: 0.3030 - val_accuracy: 0.9130\n",
            "Epoch 62/100\n",
            "469/469 [==============================] - 3s 7ms/step - loss: 0.3121 - accuracy: 0.9102 - val_loss: 0.3016 - val_accuracy: 0.9131\n",
            "Epoch 63/100\n",
            "469/469 [==============================] - 3s 7ms/step - loss: 0.3104 - accuracy: 0.9108 - val_loss: 0.3005 - val_accuracy: 0.9131\n",
            "Epoch 64/100\n",
            "469/469 [==============================] - 4s 9ms/step - loss: 0.3090 - accuracy: 0.9111 - val_loss: 0.2989 - val_accuracy: 0.9130\n",
            "Epoch 65/100\n",
            "469/469 [==============================] - 3s 7ms/step - loss: 0.3075 - accuracy: 0.9114 - val_loss: 0.2975 - val_accuracy: 0.9144\n",
            "Epoch 66/100\n",
            "469/469 [==============================] - 3s 6ms/step - loss: 0.3059 - accuracy: 0.9123 - val_loss: 0.2960 - val_accuracy: 0.9141\n",
            "Epoch 67/100\n",
            "469/469 [==============================] - 3s 6ms/step - loss: 0.3046 - accuracy: 0.9121 - val_loss: 0.2946 - val_accuracy: 0.9143\n",
            "Epoch 68/100\n",
            "469/469 [==============================] - 4s 9ms/step - loss: 0.3031 - accuracy: 0.9124 - val_loss: 0.2932 - val_accuracy: 0.9150\n",
            "Epoch 69/100\n",
            "469/469 [==============================] - 3s 6ms/step - loss: 0.3017 - accuracy: 0.9129 - val_loss: 0.2925 - val_accuracy: 0.9152\n",
            "Epoch 70/100\n",
            "469/469 [==============================] - 3s 7ms/step - loss: 0.3004 - accuracy: 0.9133 - val_loss: 0.2909 - val_accuracy: 0.9163\n",
            "Epoch 71/100\n",
            "469/469 [==============================] - 3s 7ms/step - loss: 0.2991 - accuracy: 0.9136 - val_loss: 0.2896 - val_accuracy: 0.9160\n",
            "Epoch 72/100\n",
            "469/469 [==============================] - 4s 9ms/step - loss: 0.2977 - accuracy: 0.9139 - val_loss: 0.2887 - val_accuracy: 0.9174\n",
            "Epoch 73/100\n",
            "469/469 [==============================] - 3s 7ms/step - loss: 0.2965 - accuracy: 0.9143 - val_loss: 0.2875 - val_accuracy: 0.9168\n",
            "Epoch 74/100\n",
            "469/469 [==============================] - 3s 6ms/step - loss: 0.2952 - accuracy: 0.9148 - val_loss: 0.2864 - val_accuracy: 0.9172\n",
            "Epoch 75/100\n",
            "469/469 [==============================] - 3s 7ms/step - loss: 0.2939 - accuracy: 0.9151 - val_loss: 0.2854 - val_accuracy: 0.9166\n",
            "Epoch 76/100\n",
            "469/469 [==============================] - 4s 9ms/step - loss: 0.2927 - accuracy: 0.9155 - val_loss: 0.2841 - val_accuracy: 0.9178\n",
            "Epoch 77/100\n",
            "469/469 [==============================] - 3s 6ms/step - loss: 0.2916 - accuracy: 0.9157 - val_loss: 0.2832 - val_accuracy: 0.9179\n",
            "Epoch 78/100\n",
            "469/469 [==============================] - 3s 7ms/step - loss: 0.2904 - accuracy: 0.9157 - val_loss: 0.2820 - val_accuracy: 0.9188\n",
            "Epoch 79/100\n",
            "469/469 [==============================] - 3s 7ms/step - loss: 0.2893 - accuracy: 0.9162 - val_loss: 0.2809 - val_accuracy: 0.9187\n",
            "Epoch 80/100\n",
            "469/469 [==============================] - 4s 8ms/step - loss: 0.2881 - accuracy: 0.9166 - val_loss: 0.2803 - val_accuracy: 0.9189\n",
            "Epoch 81/100\n",
            "469/469 [==============================] - 3s 7ms/step - loss: 0.2870 - accuracy: 0.9170 - val_loss: 0.2787 - val_accuracy: 0.9191\n",
            "Epoch 82/100\n",
            "469/469 [==============================] - 3s 6ms/step - loss: 0.2858 - accuracy: 0.9175 - val_loss: 0.2781 - val_accuracy: 0.9192\n",
            "Epoch 83/100\n",
            "469/469 [==============================] - 4s 8ms/step - loss: 0.2848 - accuracy: 0.9175 - val_loss: 0.2770 - val_accuracy: 0.9201\n",
            "Epoch 84/100\n",
            "469/469 [==============================] - 3s 7ms/step - loss: 0.2837 - accuracy: 0.9176 - val_loss: 0.2761 - val_accuracy: 0.9198\n",
            "Epoch 85/100\n",
            "469/469 [==============================] - 3s 6ms/step - loss: 0.2827 - accuracy: 0.9180 - val_loss: 0.2752 - val_accuracy: 0.9199\n",
            "Epoch 86/100\n",
            "469/469 [==============================] - 3s 7ms/step - loss: 0.2816 - accuracy: 0.9183 - val_loss: 0.2743 - val_accuracy: 0.9209\n",
            "Epoch 87/100\n",
            "469/469 [==============================] - 4s 9ms/step - loss: 0.2805 - accuracy: 0.9186 - val_loss: 0.2732 - val_accuracy: 0.9205\n",
            "Epoch 88/100\n",
            "469/469 [==============================] - 3s 7ms/step - loss: 0.2796 - accuracy: 0.9187 - val_loss: 0.2725 - val_accuracy: 0.9208\n",
            "Epoch 89/100\n",
            "469/469 [==============================] - 3s 6ms/step - loss: 0.2787 - accuracy: 0.9193 - val_loss: 0.2713 - val_accuracy: 0.9207\n",
            "Epoch 90/100\n",
            "469/469 [==============================] - 3s 6ms/step - loss: 0.2776 - accuracy: 0.9197 - val_loss: 0.2709 - val_accuracy: 0.9214\n",
            "Epoch 91/100\n",
            "469/469 [==============================] - 4s 9ms/step - loss: 0.2766 - accuracy: 0.9196 - val_loss: 0.2701 - val_accuracy: 0.9213\n",
            "Epoch 92/100\n",
            "469/469 [==============================] - 3s 7ms/step - loss: 0.2756 - accuracy: 0.9201 - val_loss: 0.2691 - val_accuracy: 0.9213\n",
            "Epoch 93/100\n",
            "469/469 [==============================] - 3s 7ms/step - loss: 0.2747 - accuracy: 0.9201 - val_loss: 0.2685 - val_accuracy: 0.9217\n",
            "Epoch 94/100\n",
            "469/469 [==============================] - 3s 6ms/step - loss: 0.2738 - accuracy: 0.9205 - val_loss: 0.2671 - val_accuracy: 0.9221\n",
            "Epoch 95/100\n",
            "469/469 [==============================] - 4s 9ms/step - loss: 0.2728 - accuracy: 0.9208 - val_loss: 0.2665 - val_accuracy: 0.9214\n",
            "Epoch 96/100\n",
            "469/469 [==============================] - 3s 7ms/step - loss: 0.2719 - accuracy: 0.9209 - val_loss: 0.2654 - val_accuracy: 0.9222\n",
            "Epoch 97/100\n",
            "469/469 [==============================] - 3s 7ms/step - loss: 0.2709 - accuracy: 0.9212 - val_loss: 0.2650 - val_accuracy: 0.9230\n",
            "Epoch 98/100\n",
            "469/469 [==============================] - 3s 6ms/step - loss: 0.2701 - accuracy: 0.9214 - val_loss: 0.2641 - val_accuracy: 0.9231\n",
            "Epoch 99/100\n",
            "469/469 [==============================] - 4s 9ms/step - loss: 0.2691 - accuracy: 0.9217 - val_loss: 0.2632 - val_accuracy: 0.9228\n",
            "Epoch 100/100\n",
            "469/469 [==============================] - 3s 7ms/step - loss: 0.2682 - accuracy: 0.9218 - val_loss: 0.2629 - val_accuracy: 0.9228\n"
          ]
        }
      ]
    },
    {
      "cell_type": "markdown",
      "source": [
        "fit 명령을 통해서 신경망 트레이닝을 진행한다. epochs에 지정된 회수만큼 트레이닝을 반복진행한다. batch_size는 한번에 신경망에 투입되는 입력값의 갯수이다. "
      ],
      "metadata": {
        "id": "FOti1eiBWudN"
      }
    },
    {
      "cell_type": "code",
      "source": [
        "img = cv2.imread('2_1.png')\n",
        "cv2_imshow(img)\n",
        "cv2.waitKey(0)\n",
        "cv2.destroyAllWindows()"
      ],
      "metadata": {
        "colab": {
          "base_uri": "https://localhost:8080/",
          "height": 499
        },
        "id": "qBRfEbbfXwK6",
        "outputId": "d298d8e2-3518-4509-e4ba-3efcc9392038"
      },
      "execution_count": 44,
      "outputs": [
        {
          "output_type": "display_data",
          "data": {
            "text/plain": [
              "<PIL.Image.Image image mode=RGB size=358x482 at 0x7F060B31EB80>"
            ],
            "image/png": "[encoded data removed]"
          },
          "metadata": {}
        }
      ]
    },
    {
      "cell_type": "markdown",
      "source": [
        "신경망 트레이닝이 끝이나면 테스트를 위해서 숫자 이미지를 로드한다. "
      ],
      "metadata": {
        "id": "zH3kRfwHbNkP"
      }
    },
    {
      "cell_type": "code",
      "source": [
        "img = cv2.resize(img, (28,28))\n",
        "img = cv2.cvtColor(img, cv2.COLOR_BGR2GRAY)\n",
        "img = np.reshape(img, (784, ))\n",
        "\n",
        "X = np.asarray([img])\n",
        "predictions = model(X, training=False)\n",
        "print(predictions)\n",
        "print(np.argmax(predictions))"
      ],
      "metadata": {
        "colab": {
          "base_uri": "https://localhost:8080/"
        },
        "id": "0UoyD3jsfugO",
        "outputId": "0c0b8173-3df0-4305-87ed-cbb0293aaed8"
      },
      "execution_count": 45,
      "outputs": [
        {
          "output_type": "stream",
          "name": "stdout",
          "text": [
            "tf.Tensor(\n",
            "[[1.0143999e-05 6.2730510e-06 9.1457826e-01 5.2250236e-02 6.4228187e-09\n",
            "  5.7523266e-06 1.5249597e-09 2.3492085e-04 3.2886073e-02 2.8306653e-05]], shape=(1, 10), dtype=float32)\n",
            "2\n"
          ]
        }
      ]
    },
    {
      "cell_type": "markdown",
      "source": [
        "로드된 숫자 이미지를 신경망에 통과시켜서 숫자값을 예측해 본다. 트레이닝 데이터와 로드한 숫자 이미지 데이터를 비교해서 데이터가 제대로 학습이 되었는지 비교해볼 수 있다. "
      ],
      "metadata": {
        "id": "VYxqqtLYjzO4"
      }
    },
    {
      "cell_type": "code",
      "source": [
        "print(\"[INFO] evaluating network...\")\n",
        "predictions = model.predict(testX, batch_size=128)\n",
        "print(classification_report(testY.argmax(axis=1),\n",
        "\tpredictions.argmax(axis=1),\n",
        "\ttarget_names=[str(x) for x in lb.classes_]))"
      ],
      "metadata": {
        "colab": {
          "base_uri": "https://localhost:8080/"
        },
        "id": "IG4NaZg4kh9A",
        "outputId": "fb1a586d-32d9-404e-d58d-c991d5a1ae7f"
      },
      "execution_count": 47,
      "outputs": [
        {
          "output_type": "stream",
          "name": "stdout",
          "text": [
            "[INFO] evaluating network...\n",
            "79/79 [==============================] - 0s 3ms/step\n",
            "              precision    recall  f1-score   support\n",
            "\n",
            "           0       0.94      0.98      0.96       980\n",
            "           1       0.97      0.97      0.97      1135\n",
            "           2       0.92      0.90      0.91      1032\n",
            "           3       0.91      0.91      0.91      1010\n",
            "           4       0.93      0.93      0.93       982\n",
            "           5       0.90      0.86      0.88       892\n",
            "           6       0.93      0.94      0.94       958\n",
            "           7       0.93      0.92      0.92      1028\n",
            "           8       0.88      0.90      0.89       974\n",
            "           9       0.90      0.91      0.90      1009\n",
            "\n",
            "    accuracy                           0.92     10000\n",
            "   macro avg       0.92      0.92      0.92     10000\n",
            "weighted avg       0.92      0.92      0.92     10000\n",
            "\n"
          ]
        }
      ]
    },
    {
      "cell_type": "markdown",
      "source": [
        "트레이닝된 신경망이 얼마나 정확한지 테스트 데이터셋으로 검증을 해본다. "
      ],
      "metadata": {
        "id": "Bqtxs2_IklbC"
      }
    },
    {
      "cell_type": "code",
      "source": [
        "plt.style.use(\"ggplot\")\n",
        "plt.figure()\n",
        "plt.plot(np.arange(0, 100), H.history[\"loss\"], label=\"train_loss\")\n",
        "plt.plot(np.arange(0, 100), H.history[\"val_loss\"], label=\"val_loss\")\n",
        "plt.plot(np.arange(0, 100), H.history[\"accuracy\"], label=\"train_acc\")\n",
        "plt.plot(np.arange(0, 100), H.history[\"val_accuracy\"], label=\"val_acc\")\n",
        "plt.title(\"Training Loss and Accuracy\")\n",
        "plt.xlabel(\"Epoch #\")\n",
        "plt.ylabel(\"Loss/Accuracy\")\n",
        "plt.legend()\n",
        "plt.savefig('kera_mnist.png')\n",
        "plt.show()"
      ],
      "metadata": {
        "colab": {
          "base_uri": "https://localhost:8080/",
          "height": 299
        },
        "id": "FTYr-nI0kqfR",
        "outputId": "abf7eb3c-61bf-4b88-b1a3-eeb474e25920"
      },
      "execution_count": 48,
      "outputs": [
        {
          "output_type": "display_data",
          "data": {
            "text/plain": [
              "<Figure size 432x288 with 1 Axes>"
            ],
            "image/png": "[encoded data removed]"
          },
          "metadata": {}
        }
      ]
    },
    {
      "cell_type": "markdown",
      "source": [
        "신경망의 학습 정확도를 그래픽으로 플로팅 해본다. "
      ],
      "metadata": {
        "id": "6RmJjq6nlJun"
      }
    }
  ]
}